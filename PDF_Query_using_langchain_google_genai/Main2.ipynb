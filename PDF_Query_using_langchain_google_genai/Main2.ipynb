{
 "cells": [
  {
   "cell_type": "markdown",
   "metadata": {},
   "source": [
    "# Retrieval Augmented Generation (RAG) App\n",
    "## PDF to FAISS Query System using LangChain and Google Generative AI"
   ]
  },
  {
   "cell_type": "code",
   "execution_count": null,
   "metadata": {},
   "outputs": [],
   "source": [
    "from langchain.document_loaders import PyPDFLoader\n",
    "from langchain.text_splitter import RecursiveCharacterTextSplitter\n",
    "from langchain_google_genai import GoogleGenerativeAI, GoogleGenerativeAIEmbeddings\n",
    "from langchain.vectorstores import FAISS\n",
    "from langchain.chains import RetrievalQA\n",
    "\n",
    "import os\n",
    "from dotenv import load_dotenv\n",
    "load_dotenv('.config')\n",
    "GOOGLE_API_KEY = os.getenv(\"GOOGLE_API_KEY\")\n",
    "\n",
    "def extract_text_from_pdf(uploaded_pdf):\n",
    "    loader = PyPDFLoader(uploaded_pdf)\n",
    "    documents = loader.load()\n",
    "\n",
    "    text_splitter = RecursiveCharacterTextSplitter(chunk_size=1000, chunk_overlap=200)\n",
    "    texts = text_splitter.split_documents(documents)\n",
    "    return texts   \n",
    "\n",
    "texts=extract_text_from_pdf(\"****.pdf\") # Give PDF file as an input\n",
    "\n",
    "embeddings= GoogleGenerativeAIEmbeddings(model=\"models/embedding-001\",api_key=GOOGLE_API_KEY)\n",
    "vectorstore = FAISS.from_documents(texts, embeddings)\n",
    "\n",
    "llm = GoogleGenerativeAI(model=\"gemini-2.0-flash-exp\",api_key=GOOGLE_API_KEY)\n",
    "qa_chain = RetrievalQA.from_chain_type(llm, retriever=vectorstore.as_retriever())\n",
    "\n",
    "query = \"Question\" # Ask your Question Here.\n",
    "answer = qa_chain.invoke(query)\n",
    "print(answer.get(\"result\"))"
   ]
  }
 ],
 "metadata": {
  "kernelspec": {
   "display_name": "venv",
   "language": "python",
   "name": "python3"
  },
  "language_info": {
   "codemirror_mode": {
    "name": "ipython",
    "version": 3
   },
   "file_extension": ".py",
   "mimetype": "text/x-python",
   "name": "python",
   "nbconvert_exporter": "python",
   "pygments_lexer": "ipython3",
   "version": "3.12.8"
  }
 },
 "nbformat": 4,
 "nbformat_minor": 2
}
