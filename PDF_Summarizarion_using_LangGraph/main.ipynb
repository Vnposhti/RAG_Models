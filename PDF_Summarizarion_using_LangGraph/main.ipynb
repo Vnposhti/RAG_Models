{
 "cells": [
  {
   "cell_type": "markdown",
   "metadata": {},
   "source": [
    "## PDF Summarization using LangGraph & Google Generative AI"
   ]
  },
  {
   "cell_type": "markdown",
   "metadata": {},
   "source": [
    "### Load Libraries and Environment Variables"
   ]
  },
  {
   "cell_type": "code",
   "execution_count": null,
   "metadata": {},
   "outputs": [],
   "source": [
    "import google.generativeai as genai\n",
    "from PyPDF2 import PdfReader\n",
    "from langchain.text_splitter import RecursiveCharacterTextSplitter\n",
    "\n",
    "\n",
    "import os\n",
    "from dotenv import load_dotenv\n",
    "load_dotenv('.config')\n",
    "GOOGLE_API_KEY = os.getenv(\"GOOGLE_API_KEY\")\n",
    "genai.configure(api_key=GOOGLE_API_KEY)"
   ]
  },
  {
   "cell_type": "markdown",
   "metadata": {},
   "source": [
    "### Define Nodes"
   ]
  },
  {
   "cell_type": "code",
   "execution_count": 2,
   "metadata": {},
   "outputs": [],
   "source": [
    "def pdf_preprocessing(uploaded_pdf):\n",
    "    pdf_content = \"\"\n",
    "    reader = PdfReader(uploaded_pdf)\n",
    "    for page in reader.pages:\n",
    "        pdf_content += page.extract_text() + \"\\n\"\n",
    "    text_splitter = RecursiveCharacterTextSplitter(chunk_size=500,chunk_overlap=20)\n",
    "    texts = text_splitter.split_text(pdf_content)\n",
    "    return texts"
   ]
  },
  {
   "cell_type": "code",
   "execution_count": 3,
   "metadata": {},
   "outputs": [],
   "source": [
    "def summarize_text(text):\n",
    "    model = genai.GenerativeModel(\"gemini-2.0-flash-exp\")\n",
    "    prompt = f\"Extract Key Features and summarize the headingwise and sub-headingwise main content of the PDF:\\n{text}\"\n",
    "    response = model.generate_content(prompt)\n",
    "    return response.candidates[0].content.parts[0].text"
   ]
  },
  {
   "cell_type": "markdown",
   "metadata": {},
   "source": [
    "### Graph"
   ]
  },
  {
   "cell_type": "code",
   "execution_count": null,
   "metadata": {},
   "outputs": [],
   "source": [
    "from langgraph.graph import Graph\n",
    "\n",
    "graph=Graph()\n",
    "\n",
    "graph.add_node(\"PDF PREPROCESSING\",pdf_preprocessing)\n",
    "graph.add_node(\"TEXT SUMMARIZATION\",summarize_text)\n",
    "\n",
    "graph.add_edge(\"PDF PREPROCESSING\", \"TEXT SUMMARIZATION\")\n",
    "\n",
    "graph.set_entry_point(\"PDF PREPROCESSING\")\n",
    "graph.set_finish_point(\"TEXT SUMMARIZATION\")\n",
    "\n",
    "app=graph.compile()\n",
    "\n",
    "from IPython.display import Image,display\n",
    "display(Image(app.get_graph().draw_mermaid_png()))"
   ]
  },
  {
   "cell_type": "markdown",
   "metadata": {},
   "source": [
    "### Evaluation"
   ]
  },
  {
   "cell_type": "code",
   "execution_count": null,
   "metadata": {},
   "outputs": [],
   "source": [
    "# Give PDF FILE to Summarize\n",
    "\n",
    "print(app.invoke(\"***.pdf\"))"
   ]
  }
 ],
 "metadata": {
  "kernelspec": {
   "display_name": "Python 3",
   "language": "python",
   "name": "python3"
  },
  "language_info": {
   "codemirror_mode": {
    "name": "ipython",
    "version": 3
   },
   "file_extension": ".py",
   "mimetype": "text/x-python",
   "name": "python",
   "nbconvert_exporter": "python",
   "pygments_lexer": "ipython3",
   "version": "3.12.8"
  }
 },
 "nbformat": 4,
 "nbformat_minor": 2
}
